{
  "cells": [
    {
      "cell_type": "markdown",
      "id": "dbeeafa8",
      "metadata": {
        "id": "dbeeafa8"
      },
      "source": [
        "### Data Usage\n",
        "For this whole project, the Celeb-DF v2 dataset was used to train a CNN-LSTM model to predict whether a video is a deepfake or a real video.\n",
        "The dataset is composed of:\n",
        "* 590 real videos\n",
        "* 5639 deepfakes."
      ]
    },
    {
      "cell_type": "code",
      "source": [
        "from google.colab import drive\n",
        "drive.mount('/content/drive')"
      ],
      "metadata": {
        "colab": {
          "base_uri": "https://localhost:8080/"
        },
        "id": "3PEr2WAIPCxH",
        "outputId": "555f143a-3418-494e-cfd2-8eefd4e61abb"
      },
      "id": "3PEr2WAIPCxH",
      "execution_count": 3,
      "outputs": [
        {
          "output_type": "stream",
          "name": "stdout",
          "text": [
            "Mounted at /content/drive\n"
          ]
        }
      ]
    },
    {
      "cell_type": "code",
      "source": [
        "from zipfile import ZipFile\n",
        "from pathlib import Path\n",
        "\n",
        "# Setup path to a data folder to store the data.\n",
        "zip_path = Path(\"/content/drive/MyDrive/data.zip\")\n",
        "data_path = Path(\"data\")\n",
        "\n",
        "# If the data folder does not exist, download it and prepare it...\n",
        "if not data_path.is_dir():\n",
        "   data_path.mkdir(parents=True, exist_ok=True)\n",
        "\n",
        "#\n",
        "with ZipFile(zip_path, \"r\") as zip_ref:\n",
        "   print(\"Unzipping video data\")\n",
        "   zip_ref.extractall(data_path)"
      ],
      "metadata": {
        "colab": {
          "base_uri": "https://localhost:8080/"
        },
        "id": "79beo_Q8EXno",
        "outputId": "c97e34be-d44c-448e-e563-d3a2aade3510"
      },
      "id": "79beo_Q8EXno",
      "execution_count": 4,
      "outputs": [
        {
          "output_type": "stream",
          "name": "stdout",
          "text": [
            "Unzipping video data\n"
          ]
        }
      ]
    },
    {
      "cell_type": "code",
      "execution_count": 5,
      "id": "b010b23c",
      "metadata": {
        "colab": {
          "base_uri": "https://localhost:8080/"
        },
        "id": "b010b23c",
        "outputId": "e0a99a7b-330d-4984-c5c6-2452f2ddf53d"
      },
      "outputs": [
        {
          "output_type": "execute_result",
          "data": {
            "text/plain": [
              "(PosixPath('/content/data/data/CelebDF(v2)/train'),\n",
              " PosixPath('/content/data/data/CelebDF(v2)/validation'),\n",
              " PosixPath('/content/data/data/CelebDF(v2)/test'))"
            ]
          },
          "metadata": {},
          "execution_count": 5
        }
      ],
      "source": [
        "from pathlib import Path\n",
        "# Setup training, testing, and validation paths of the videos\n",
        "videos_path = Path(\"/content/data/data/CelebDF(v2)\")\n",
        "train_vids_dir = videos_path / \"train\"\n",
        "validation_vids_dir = videos_path / \"validation\"\n",
        "test_vids_dir = videos_path / \"test\"\n",
        "train_vids_dir, validation_vids_dir, test_vids_dir"
      ]
    },
    {
      "cell_type": "code",
      "execution_count": 6,
      "id": "c15c4827",
      "metadata": {
        "colab": {
          "base_uri": "https://localhost:8080/"
        },
        "id": "c15c4827",
        "outputId": "8c850fa5-b894-4e3e-ed7a-b67f917bef2f"
      },
      "outputs": [
        {
          "output_type": "execute_result",
          "data": {
            "text/plain": [
              "(['fake', 'real'], {'fake': 0, 'real': 1})"
            ]
          },
          "metadata": {},
          "execution_count": 6
        }
      ],
      "source": [
        "import os\n",
        "from typing import Dict, List, Tuple\n",
        "def find_classes(directory: str) -> Tuple[List[str], Dict[str, int]]:\n",
        "    \"\"\"Finds the class folder names in the target directories\"\"\"\n",
        "    # 1. Get the class names by scanning the entire target directory\n",
        "    classes = sorted([entry.name for entry in list(os.scandir(directory))])\n",
        "\n",
        "    # 2. Raise an error if class names could not be found\n",
        "    if not classes:\n",
        "        raise FileNotFoundError(f\"Couldn't find any classes in {directory}...please check file structure\")\n",
        "\n",
        "    # 3. Create a list of index labels (computers perfer numbers over strings for labels)\n",
        "    class_to_idx = {class_name: i for i, class_name in enumerate(classes)}\n",
        "\n",
        "    return classes, class_to_idx\n",
        "find_classes(train_vids_dir.__str__())"
      ]
    },
    {
      "cell_type": "markdown",
      "id": "8076c507",
      "metadata": {
        "id": "8076c507"
      },
      "source": [
        "### Turning Videos into Frames\n",
        "Because videos are large and very difficult to process, they will be converted by their frames into images so that they can be stored effectively.\n",
        "* It is much easier to apply transformations to stored images than it is to iterate through each video, through each frame of each video.\n",
        "* Iterating though images can be done with 2-D Convolution, while iterating through videos would require expensive 3-D Convolution"
      ]
    },
    {
      "cell_type": "code",
      "source": [
        "!nvidia-smi"
      ],
      "metadata": {
        "colab": {
          "base_uri": "https://localhost:8080/"
        },
        "id": "PQ1EYvquepTo",
        "outputId": "198b6e25-12d2-47b4-9876-f59f546c6f8a"
      },
      "id": "PQ1EYvquepTo",
      "execution_count": 7,
      "outputs": [
        {
          "output_type": "stream",
          "name": "stdout",
          "text": [
            "Sun Aug  3 22:22:57 2025       \n",
            "+-----------------------------------------------------------------------------------------+\n",
            "| NVIDIA-SMI 550.54.15              Driver Version: 550.54.15      CUDA Version: 12.4     |\n",
            "|-----------------------------------------+------------------------+----------------------+\n",
            "| GPU  Name                 Persistence-M | Bus-Id          Disp.A | Volatile Uncorr. ECC |\n",
            "| Fan  Temp   Perf          Pwr:Usage/Cap |           Memory-Usage | GPU-Util  Compute M. |\n",
            "|                                         |                        |               MIG M. |\n",
            "|=========================================+========================+======================|\n",
            "|   0  Tesla T4                       Off |   00000000:00:04.0 Off |                    0 |\n",
            "| N/A   45C    P8             10W /   70W |       0MiB /  15360MiB |      0%      Default |\n",
            "|                                         |                        |                  N/A |\n",
            "+-----------------------------------------+------------------------+----------------------+\n",
            "                                                                                         \n",
            "+-----------------------------------------------------------------------------------------+\n",
            "| Processes:                                                                              |\n",
            "|  GPU   GI   CI        PID   Type   Process name                              GPU Memory |\n",
            "|        ID   ID                                                               Usage      |\n",
            "|=========================================================================================|\n",
            "|  No running processes found                                                             |\n",
            "+-----------------------------------------------------------------------------------------+\n"
          ]
        }
      ]
    },
    {
      "cell_type": "code",
      "source": [
        "!pip install ffmpeg"
      ],
      "metadata": {
        "colab": {
          "base_uri": "https://localhost:8080/"
        },
        "id": "lUPHd_Dwf3kY",
        "outputId": "78d5251a-e1a4-457a-de38-68b507ab8eaf"
      },
      "id": "lUPHd_Dwf3kY",
      "execution_count": 8,
      "outputs": [
        {
          "output_type": "stream",
          "name": "stdout",
          "text": [
            "Collecting ffmpeg\n",
            "  Downloading ffmpeg-1.4.tar.gz (5.1 kB)\n",
            "  Preparing metadata (setup.py) ... \u001b[?25l\u001b[?25hdone\n",
            "Building wheels for collected packages: ffmpeg\n",
            "  Building wheel for ffmpeg (setup.py) ... \u001b[?25l\u001b[?25hdone\n",
            "  Created wheel for ffmpeg: filename=ffmpeg-1.4-py3-none-any.whl size=6083 sha256=89340cf4be8304856991d61f75b427329f768494b0b9ba0258ed44774408c074\n",
            "  Stored in directory: /root/.cache/pip/wheels/56/30/c5/576bdd729f3bc062d62a551be7fefd6ed2f761901568171e4e\n",
            "Successfully built ffmpeg\n",
            "Installing collected packages: ffmpeg\n",
            "Successfully installed ffmpeg-1.4\n"
          ]
        }
      ]
    },
    {
      "cell_type": "code",
      "source": [
        "!ffmpeg -decoders | grep -i nvidia"
      ],
      "metadata": {
        "colab": {
          "base_uri": "https://localhost:8080/"
        },
        "id": "863WsM87gZHu",
        "outputId": "0a7eb487-97aa-4f79-e56a-df11e0c66ba7"
      },
      "id": "863WsM87gZHu",
      "execution_count": 9,
      "outputs": [
        {
          "output_type": "stream",
          "name": "stdout",
          "text": [
            "ffmpeg version 4.4.2-0ubuntu0.22.04.1 Copyright (c) 2000-2021 the FFmpeg developers\n",
            "  built with gcc 11 (Ubuntu 11.2.0-19ubuntu1)\n",
            "  configuration: --prefix=/usr --extra-version=0ubuntu0.22.04.1 --toolchain=hardened --libdir=/usr/lib/x86_64-linux-gnu --incdir=/usr/include/x86_64-linux-gnu --arch=amd64 --enable-gpl --disable-stripping --enable-gnutls --enable-ladspa --enable-libaom --enable-libass --enable-libbluray --enable-libbs2b --enable-libcaca --enable-libcdio --enable-libcodec2 --enable-libdav1d --enable-libflite --enable-libfontconfig --enable-libfreetype --enable-libfribidi --enable-libgme --enable-libgsm --enable-libjack --enable-libmp3lame --enable-libmysofa --enable-libopenjpeg --enable-libopenmpt --enable-libopus --enable-libpulse --enable-librabbitmq --enable-librubberband --enable-libshine --enable-libsnappy --enable-libsoxr --enable-libspeex --enable-libsrt --enable-libssh --enable-libtheora --enable-libtwolame --enable-libvidstab --enable-libvorbis --enable-libvpx --enable-libwebp --enable-libx265 --enable-libxml2 --enable-libxvid --enable-libzimg --enable-libzmq --enable-libzvbi --enable-lv2 --enable-omx --enable-openal --enable-opencl --enable-opengl --enable-sdl2 --enable-pocketsphinx --enable-librsvg --enable-libmfx --enable-libdc1394 --enable-libdrm --enable-libiec61883 --enable-chromaprint --enable-frei0r --enable-libx264 --enable-shared\n",
            "  libavutil      56. 70.100 / 56. 70.100\n",
            "  libavcodec     58.134.100 / 58.134.100\n",
            "  libavformat    58. 76.100 / 58. 76.100\n",
            "  libavdevice    58. 13.100 / 58. 13.100\n",
            "  libavfilter     7.110.100 /  7.110.100\n",
            "  libswscale      5.  9.100 /  5.  9.100\n",
            "  libswresample   3.  9.100 /  3.  9.100\n",
            "  libpostproc    55.  9.100 / 55.  9.100\n",
            " V..... av1_cuvid            Nvidia CUVID AV1 decoder (codec av1)\n",
            " V..... h264_cuvid           Nvidia CUVID H264 decoder (codec h264)\n",
            " V..... hevc_cuvid           Nvidia CUVID HEVC decoder (codec hevc)\n",
            " V..... mjpeg_cuvid          Nvidia CUVID MJPEG decoder (codec mjpeg)\n",
            " V..... mpeg1_cuvid          Nvidia CUVID MPEG1VIDEO decoder (codec mpeg1video)\n",
            " V..... mpeg2_cuvid          Nvidia CUVID MPEG2VIDEO decoder (codec mpeg2video)\n",
            " V..... mpeg4_cuvid          Nvidia CUVID MPEG4 decoder (codec mpeg4)\n",
            " V..... vc1_cuvid            Nvidia CUVID VC1 decoder (codec vc1)\n",
            " V..... vp8_cuvid            Nvidia CUVID VP8 decoder (codec vp8)\n",
            " V..... vp9_cuvid            Nvidia CUVID VP9 decoder (codec vp9)\n"
          ]
        }
      ]
    },
    {
      "cell_type": "code",
      "source": [
        "!pip install torchcodec --index-url=https://download.pytorch.org/whl/cu124"
      ],
      "metadata": {
        "colab": {
          "base_uri": "https://localhost:8080/"
        },
        "id": "Agxoaas5gxah",
        "outputId": "3b445bd3-beaf-491d-979e-eb8cbeab4cfb"
      },
      "id": "Agxoaas5gxah",
      "execution_count": 10,
      "outputs": [
        {
          "output_type": "stream",
          "name": "stdout",
          "text": [
            "Looking in indexes: https://download.pytorch.org/whl/cu124\n",
            "Collecting torchcodec\n",
            "  Downloading https://download.pytorch.org/whl/cu124/TorchCodec-0.2.1%2Bcu124-cp311-cp311-manylinux_2_17_x86_64.manylinux2014_x86_64.whl.metadata (11 kB)\n",
            "Downloading https://download.pytorch.org/whl/cu124/TorchCodec-0.2.1%2Bcu124-cp311-cp311-manylinux_2_17_x86_64.manylinux2014_x86_64.whl (846 kB)\n",
            "\u001b[2K   \u001b[90m━━━━━━━━━━━━━━━━━━━━━━━━━━━━━━━━━━━━━━━\u001b[0m \u001b[32m846.8/846.8 kB\u001b[0m \u001b[31m789.8 kB/s\u001b[0m eta \u001b[36m0:00:00\u001b[0m\n",
            "\u001b[?25hInstalling collected packages: torchcodec\n",
            "Successfully installed torchcodec-0.2.1+cu124\n"
          ]
        }
      ]
    },
    {
      "cell_type": "code",
      "source": [
        "!pip install dlib"
      ],
      "metadata": {
        "colab": {
          "base_uri": "https://localhost:8080/"
        },
        "id": "Rgy8SahkbK4f",
        "outputId": "e345137f-8595-42a3-946c-ebd46a5d1e98"
      },
      "id": "Rgy8SahkbK4f",
      "execution_count": 11,
      "outputs": [
        {
          "output_type": "stream",
          "name": "stdout",
          "text": [
            "Requirement already satisfied: dlib in /usr/local/lib/python3.11/dist-packages (19.24.6)\n"
          ]
        }
      ]
    },
    {
      "cell_type": "code",
      "source": [
        "!pip install face_recognition"
      ],
      "metadata": {
        "colab": {
          "base_uri": "https://localhost:8080/"
        },
        "id": "WRATNMhziXtE",
        "outputId": "75f0a483-dec0-489a-ede3-88747b1a2439"
      },
      "id": "WRATNMhziXtE",
      "execution_count": 12,
      "outputs": [
        {
          "output_type": "stream",
          "name": "stdout",
          "text": [
            "Collecting face_recognition\n",
            "  Downloading face_recognition-1.3.0-py2.py3-none-any.whl.metadata (21 kB)\n",
            "Collecting face-recognition-models>=0.3.0 (from face_recognition)\n",
            "  Downloading face_recognition_models-0.3.0.tar.gz (100.1 MB)\n",
            "\u001b[2K     \u001b[90m━━━━━━━━━━━━━━━━━━━━━━━━━━━━━━━━━━━━━━━\u001b[0m \u001b[32m100.1/100.1 MB\u001b[0m \u001b[31m8.1 MB/s\u001b[0m eta \u001b[36m0:00:00\u001b[0m\n",
            "\u001b[?25h  Preparing metadata (setup.py) ... \u001b[?25l\u001b[?25hdone\n",
            "Requirement already satisfied: Click>=6.0 in /usr/local/lib/python3.11/dist-packages (from face_recognition) (8.2.1)\n",
            "Requirement already satisfied: dlib>=19.7 in /usr/local/lib/python3.11/dist-packages (from face_recognition) (19.24.6)\n",
            "Requirement already satisfied: numpy in /usr/local/lib/python3.11/dist-packages (from face_recognition) (2.0.2)\n",
            "Requirement already satisfied: Pillow in /usr/local/lib/python3.11/dist-packages (from face_recognition) (11.3.0)\n",
            "Downloading face_recognition-1.3.0-py2.py3-none-any.whl (15 kB)\n",
            "Building wheels for collected packages: face-recognition-models\n",
            "  Building wheel for face-recognition-models (setup.py) ... \u001b[?25l\u001b[?25hdone\n",
            "  Created wheel for face-recognition-models: filename=face_recognition_models-0.3.0-py2.py3-none-any.whl size=100566166 sha256=a1d2ab86003fe8e49b501cf5e2c4e30d26a56a147b043c7e15e213368580de49\n",
            "  Stored in directory: /root/.cache/pip/wheels/04/52/ec/9355da79c29f160b038a20c784db2803c2f9fa2c8a462c176a\n",
            "Successfully built face-recognition-models\n",
            "Installing collected packages: face-recognition-models, face_recognition\n",
            "Successfully installed face-recognition-models-0.3.0 face_recognition-1.3.0\n"
          ]
        }
      ]
    },
    {
      "cell_type": "code",
      "execution_count": 13,
      "id": "62c8b159",
      "metadata": {
        "colab": {
          "base_uri": "https://localhost:8080/",
          "height": 317
        },
        "id": "62c8b159",
        "outputId": "74094d2f-fd39-4851-b1c2-d703463a0139"
      },
      "outputs": [
        {
          "output_type": "stream",
          "name": "stdout",
          "text": [
            "torch.Size([3, 500, 942])\n"
          ]
        },
        {
          "output_type": "display_data",
          "data": {
            "text/plain": [
              "<Figure size 640x480 with 1 Axes>"
            ],
            "image/png": "[encoded data removed]"
          },
          "metadata": {}
        }
      ],
      "source": [
        "import matplotlib.pyplot as plt\n",
        "from torchcodec.decoders import VideoDecoder\n",
        "import torch\n",
        "\n",
        "D = torch.device(\"cuda\") if torch.cuda.is_available() else \"cpu\"\n",
        "\n",
        "vd = VideoDecoder(\"/content/data/data/CelebDF(v2)/test/real/id0_0000.mp4\", device=\"cuda\")\n",
        "i = 0\n",
        "for frame in vd:  # type: ignore\n",
        "    image = frame # Get one frame of the video to work with...\n",
        "    break\n",
        "plt.imshow(image.cpu().permute(1, 2, 0).numpy())\n",
        "plt.axis(False)\n",
        "print(image.shape)"
      ]
    },
    {
      "cell_type": "markdown",
      "id": "d15e3bc4",
      "metadata": {
        "id": "d15e3bc4"
      },
      "source": [
        "### Preprocessing\n",
        "Now that it is clearly possible to break up a video into frames, and then filter out the face from all their frames, a custom transform must be written so that videos are stored as a series of frames that are only then processed. Here is what must be processed:\n",
        "* Write a custom transform sub-classing `torch.nn.Module` that in EACH directory,\n",
        "    * Crops out the face of the person in the video\n",
        "    * Breaks up the video into frames\n",
        "    * Resizes all the frames to be of `shape [3, 64, 64]`\n",
        "    * Converts all the frames into `torch.Tensor` objects"
      ]
    },
    {
      "cell_type": "code",
      "execution_count": 14,
      "id": "bbe15da1",
      "metadata": {
        "id": "bbe15da1"
      },
      "outputs": [],
      "source": [
        "import face_recognition\n",
        "import torch\n",
        "from torch import nn\n",
        "from torchvision.transforms import v2\n",
        "from torchcodec.decoders import VideoDecoder\n",
        "\n",
        "# Custom transform to crop out the face in every given frame...\n",
        "class CropFaceOutOfImage(nn.Module):\n",
        "    def forward(self, img):\n",
        "        image = img.detach().clone().permute(1, 2, 0).cpu().numpy()\n",
        "        locations = face_recognition.face_locations(img=image)\n",
        "        if not locations: # Check if any faces were found\n",
        "            return None # Return None if no faces are detected\n",
        "        # Find and record face location.\n",
        "        top, right, bottom, left = locations[0]\n",
        "        # Crop the image\n",
        "        image = v2.functional.crop(inpt=img, top=top, left=left, height=abs(top-bottom),\n",
        "                           width=abs(right-left))\n",
        "        return image\n",
        "\n",
        "# Custom transform that applies all preprocessing needed for dataset/dataloader creation\n",
        "# Includes CropFaceOutOfImage()\n",
        "class PreprocessVideos(nn.Module):\n",
        "    def __init__(self) -> None:\n",
        "        super().__init__()\n",
        "        torch.manual_seed(42)\n",
        "        torch.cuda.manual_seed(42)\n",
        "        # Define transforms that can handle None values\n",
        "        self.crop_face = CropFaceOutOfImage()\n",
        "        self.post_crop_transforms = v2.Compose([\n",
        "            v2.Resize(size=(64, 64)), # Resize to a smaller size\n",
        "            v2.RandomHorizontalFlip(),\n",
        "            v2.RandomPhotometricDistort(),\n",
        "            # Convert to decimals\n",
        "            v2.ToDtype(torch.float32, scale=True),\n",
        "            # Then, normalize...\n",
        "            v2.Normalize(mean=[0.0, 0.0, 0.0], std=[1.0, 1.0, 1.0], inplace=True)\n",
        "            ])\n",
        "        self.target_shape = (3, 16, 64, 64) # Define a target shape for the video tensor (channels, time, height, width)\n",
        "\n",
        "\n",
        "    def forward(self, video: VideoDecoder) -> torch.Tensor | None:\n",
        "        # Process the video frame-by-frame\n",
        "        frames = []\n",
        "        for frame in video:\n",
        "            # Apply transforms to the frame\n",
        "            cropped_frame = self.crop_face(frame)\n",
        "            if cropped_frame is not None: # Only apply subsequent transforms if a face was detected\n",
        "                transformed_frame = self.post_crop_transforms(cropped_frame)\n",
        "                frames.append(transformed_frame)\n",
        "\n",
        "\n",
        "        if not frames: # Return a tensor of zeros if no frames had detected faces\n",
        "            print(f\"Warning: No faces detected in video frames. Returning zero tensor.\")\n",
        "            return torch.zeros(self.target_shape)\n",
        "\n",
        "        # Stack frames and resize the time dimension if necessary\n",
        "        stacked_frames = torch.stack(frames, dim=1) # Shape: (C, T, H, W)\n",
        "        if stacked_frames.shape[1] > self.target_shape[1]:\n",
        "            # If there are more frames than the target time dimension, truncate\n",
        "            stacked_frames = stacked_frames[:, :self.target_shape[1], :, :]\n",
        "        elif stacked_frames.shape[1] < self.target_shape[1]:\n",
        "            # If there are fewer frames, pad with zeros\n",
        "            padding = torch.zeros(stacked_frames.shape[0], self.target_shape[1] - stacked_frames.shape[1], stacked_frames.shape[2], stacked_frames.shape[3], device=stacked_frames.device)\n",
        "            stacked_frames = torch.cat([stacked_frames, padding], dim=1)\n",
        "\n",
        "        return stacked_frames"
      ]
    },
    {
      "cell_type": "code",
      "execution_count": 15,
      "id": "f151d9aa",
      "metadata": {
        "colab": {
          "base_uri": "https://localhost:8080/",
          "height": 423
        },
        "id": "f151d9aa",
        "outputId": "783362fb-9ee5-4dc4-e0f5-da3af3fcc504"
      },
      "outputs": [
        {
          "output_type": "execute_result",
          "data": {
            "text/plain": [
              "(np.float64(-0.5), np.float64(63.5), np.float64(63.5), np.float64(-0.5))"
            ]
          },
          "metadata": {},
          "execution_count": 15
        },
        {
          "output_type": "display_data",
          "data": {
            "text/plain": [
              "<Figure size 640x480 with 1 Axes>"
            ],
            "image/png": "[encoded data removed]"
          },
          "metadata": {}
        }
      ],
      "source": [
        "# Test the transforms method, and debug using cell output.\n",
        "import matplotlib.pyplot as plt\n",
        "video = VideoDecoder(\"/content/data/data/CelebDF(v2)/test/real/id0_0000.mp4\", device=\"cuda\")\n",
        "transform = PreprocessVideos()\n",
        "result_video = transform(video).permute(1, 2, 3, 0)\n",
        "plt.imshow(result_video[0].cpu().numpy())\n",
        "plt.axis(False)"
      ]
    },
    {
      "cell_type": "code",
      "execution_count": 16,
      "id": "0fd3ad4c",
      "metadata": {
        "id": "0fd3ad4c"
      },
      "outputs": [],
      "source": [
        "import os\n",
        "from typing import Dict, List, Tuple\n",
        "def find_classes(directory: str) -> Tuple[List[str], Dict[str, int]]:\n",
        "    \"\"\"Finds the class folder names in the target directories\"\"\"\n",
        "    # 1. Get the class names by scanning the entire target directory\n",
        "    classes = sorted([entry.name for entry in list(os.scandir(directory))])\n",
        "\n",
        "    # 2. Raise an error if class names could not be found\n",
        "    if not classes:\n",
        "        raise FileNotFoundError(f\"Couldn't find any classes in {directory}...please check file structure\")\n",
        "\n",
        "    # 3. Create a list of index labels (computers perfer numbers over strings for labels)\n",
        "    class_to_idx = {class_name: i for i, class_name in enumerate(classes)}\n",
        "\n",
        "    return classes, class_to_idx"
      ]
    },
    {
      "cell_type": "markdown",
      "id": "59745fdd",
      "metadata": {
        "id": "59745fdd"
      },
      "source": [
        "## Storing the Data: Dataset and DataLoader\n",
        "Now that the data can be appropriately transformed into tensors despite being video objects, it is time to create a dataset and a dataloader so that the model created to classify apart deepfakes from real videos. The goals for this section are the following:\n",
        "1. Subclass torch.utils.data.Dataset\n",
        "2. Init our subclass with a target directory (especially of we want to transform our data)\n",
        "3. Create several attributes\n",
        "    * paths - paths of our images\n",
        "    * transform - the transform we'd like to use\n",
        "    * classes - the list of the target classes (or labels)\n",
        "    * classes_to_idx - the dict of the class labels mapped to integer labels.\n",
        "4. Create a function to load_images() to be able to load any image in the data.\n",
        "5. Overwrite len() method to return the length of our dataset.\n",
        "6. Overwrite get_item() to return a given sample when an index is passed.\n",
        "7. Create datasets for training, testing, and validation sets.\n",
        "8. Create dataloaders for training, validation, and testing using the created datasets in the prior steps.\n"
      ]
    },
    {
      "cell_type": "code",
      "execution_count": 17,
      "id": "24d6e4f3",
      "metadata": {
        "id": "24d6e4f3"
      },
      "outputs": [],
      "source": [
        "import torch\n",
        "from torch.utils.data import Dataset\n",
        "from torchcodec.decoders import VideoDecoder\n",
        "from pathlib import Path\n",
        "\n",
        "# 1. Subclass torch.utils.data.Dataset\n",
        "class VideoFolderCustom(Dataset):\n",
        "    # 2. Initialize custom dataset\n",
        "    def __init__(self, targ_dir: str, transform=None):\n",
        "        super().__init__()\n",
        "        # 3. Create (several) class attributes\n",
        "        # paths\n",
        "        self.paths = list(Path(targ_dir).glob(\"*/*.mp4\"))\n",
        "        # transform(s)\n",
        "        self.transform = transform\n",
        "        # Classes and classes to idx\n",
        "        self.classes, self.classes_to_idx = find_classes(targ_dir)\n",
        "\n",
        "    # 4. Create a function to load videos\n",
        "    def load_video(self, idx: int) -> VideoDecoder:\n",
        "        \"\"\"Opens a video using a path and returns it.\"\"\"\n",
        "        video_path = self.paths[idx]\n",
        "        return VideoDecoder(video_path, device=\"cuda\")\n",
        "\n",
        "    # 5. Overwrite __len__() method...\n",
        "    def __len__(self) -> int:\n",
        "        \"\"\"Returns the total number of videos in the dataset\"\"\"\n",
        "        return len(self.paths)\n",
        "\n",
        "    # 6. Overwrite __get_item__() method...\n",
        "    def __getitem__(self, index: int) -> Tuple[torch.Tensor, int]:\n",
        "        \"\"\"Returns one sample of data, data and label (X, y)\"\"\"\n",
        "        video = self.load_video(index)\n",
        "        class_name = self.paths[index].parent.name\n",
        "        class_idx = self.classes_to_idx[class_name]\n",
        "        # Transforms\n",
        "        transformed_video = self.transform(video) if self.transform else torch.tensor(video)\n",
        "        # If transformed_video is None (which shouldn't happen with the updated PreprocessVideos),\n",
        "        # handle it or raise an error. Given the change to return a zero tensor, this check\n",
        "        # might be less necessary but keeping it for robustness.\n",
        "        if transformed_video is None:\n",
        "             # This case should ideally not be reached with the updated PreprocessVideos\n",
        "             print(f\"Error: transformed_video is None for {self.paths[index]}.\")\n",
        "             # Return a zero tensor and a placeholder label\n",
        "             return torch.zeros(self.transform.target_shape), -1 # Using -1 as an invalid label\n",
        "\n",
        "        return transformed_video, class_idx"
      ]
    },
    {
      "cell_type": "code",
      "execution_count": 18,
      "id": "fa3d8698",
      "metadata": {
        "colab": {
          "base_uri": "https://localhost:8080/"
        },
        "id": "fa3d8698",
        "outputId": "c55279c9-e506-480a-bf54-dee456afa1c5"
      },
      "outputs": [
        {
          "output_type": "execute_result",
          "data": {
            "text/plain": [
              "('/content/data/data/CelebDF(v2)/train',\n",
              " '/content/data/data/CelebDF(v2)/validation',\n",
              " '/content/data/data/CelebDF(v2)/test')"
            ]
          },
          "metadata": {},
          "execution_count": 18
        }
      ],
      "source": [
        "# Creating the directories as strings\n",
        "train_dir = train_vids_dir.__str__()\n",
        "validation_dir = validation_vids_dir.__str__()\n",
        "test_dir = test_vids_dir.__str__()\n",
        "train_dir, validation_dir, test_dir"
      ]
    },
    {
      "cell_type": "code",
      "execution_count": 19,
      "id": "45f8a43a",
      "metadata": {
        "colab": {
          "base_uri": "https://localhost:8080/"
        },
        "id": "45f8a43a",
        "outputId": "6532ecfd-3925-4e46-aa21-e68ccc7e6152"
      },
      "outputs": [
        {
          "output_type": "execute_result",
          "data": {
            "text/plain": [
              "(<__main__.VideoFolderCustom at 0x7cdeaf5ddad0>,\n",
              " <__main__.VideoFolderCustom at 0x7cde780c20d0>,\n",
              " <__main__.VideoFolderCustom at 0x7cde780cb4d0>)"
            ]
          },
          "metadata": {},
          "execution_count": 19
        }
      ],
      "source": [
        "# Create the datasets for training, testing, validation\n",
        "train_dataset = VideoFolderCustom(\n",
        "    targ_dir=train_dir,\n",
        "    transform=PreprocessVideos()\n",
        ")\n",
        "validation_dataset = VideoFolderCustom(\n",
        "    targ_dir=validation_dir,\n",
        "    transform=PreprocessVideos()\n",
        ")\n",
        "test_dataset = VideoFolderCustom(\n",
        "    targ_dir=test_dir,\n",
        "    transform=PreprocessVideos()\n",
        ")\n",
        "train_dataset, validation_dataset, test_dataset"
      ]
    },
    {
      "cell_type": "code",
      "execution_count": 20,
      "id": "4aa92fd5",
      "metadata": {
        "colab": {
          "base_uri": "https://localhost:8080/"
        },
        "id": "4aa92fd5",
        "outputId": "9d6a4419-cefc-4ba9-baef-81ef51925569"
      },
      "outputs": [
        {
          "output_type": "execute_result",
          "data": {
            "text/plain": [
              "(<torch.utils.data.dataloader.DataLoader at 0x7cde78115510>,\n",
              " <torch.utils.data.dataloader.DataLoader at 0x7cdee022e650>,\n",
              " <torch.utils.data.dataloader.DataLoader at 0x7cde78115c10>)"
            ]
          },
          "metadata": {},
          "execution_count": 20
        }
      ],
      "source": [
        "from torch.utils.data import DataLoader\n",
        "import os\n",
        "\n",
        "BATCH_SIZE: int = 32\n",
        "# Create the dataloader from the datasets...\n",
        "train_dl = DataLoader(\n",
        "    dataset=train_dataset,\n",
        "    batch_size=BATCH_SIZE,\n",
        "    num_workers=0,\n",
        "    shuffle=True\n",
        ")\n",
        "validation_dl = DataLoader(\n",
        "    dataset=validation_dataset,\n",
        "    batch_size=BATCH_SIZE,\n",
        "    num_workers=0,\n",
        "    shuffle=False\n",
        ")\n",
        "test_dl = DataLoader(\n",
        "    dataset=test_dataset,\n",
        "    batch_size=BATCH_SIZE,\n",
        "    num_workers=0,\n",
        "    shuffle=False\n",
        ")\n",
        "train_dl, validation_dl, test_dl"
      ]
    },
    {
      "cell_type": "code",
      "execution_count": 21,
      "id": "c941b87d",
      "metadata": {
        "colab": {
          "base_uri": "https://localhost:8080/",
          "height": 423
        },
        "id": "c941b87d",
        "outputId": "fdfc3394-99f2-4f28-8b16-7a42d9b3caff"
      },
      "outputs": [
        {
          "output_type": "execute_result",
          "data": {
            "text/plain": [
              "(np.float64(-0.5), np.float64(63.5), np.float64(63.5), np.float64(-0.5))"
            ]
          },
          "metadata": {},
          "execution_count": 21
        },
        {
          "output_type": "display_data",
          "data": {
            "text/plain": [
              "<Figure size 640x480 with 1 Axes>"
            ],
            "image/png": "[encoded data removed]"
          },
          "metadata": {}
        }
      ],
      "source": [
        "import matplotlib.pyplot as plt\n",
        "# Testing: display a video frame from the validation set\n",
        "torch.manual_seed(42)\n",
        "video = validation_dataset[0][0]\n",
        "plt.imshow(video.permute(1, 2, 3, 0)[0].cpu().numpy())\n",
        "plt.axis(False)"
      ]
    },
    {
      "cell_type": "code",
      "execution_count": 22,
      "id": "0f50d8d7",
      "metadata": {
        "id": "0f50d8d7"
      },
      "outputs": [],
      "source": [
        "import torch\n",
        "from torch import nn\n",
        "### First, coding the CNN class (TinyVGG architecture) so that LSTM can be focused on\n",
        "# later...\n",
        "class TinyVGG(nn.Module):\n",
        "    def __init__(self, in_feats: int=3, hidden_feats: int=20, out_feats: int=3):\n",
        "        super().__init__()\n",
        "        self.conv_block_1 = nn.Sequential(\n",
        "            nn.Conv2d(in_channels=in_feats, out_channels=hidden_feats, kernel_size=2,\n",
        "                      stride=2, padding=0),\n",
        "            nn.ReLU(),\n",
        "            nn.Conv2d(in_channels=hidden_feats, out_channels=hidden_feats, kernel_size=2,\n",
        "                      stride=1, padding=0),\n",
        "            nn.ReLU(),\n",
        "            nn.MaxPool2d(kernel_size=2, padding=1, stride=1)\n",
        "        )\n",
        "        self.conv_block_2 = nn.Sequential(\n",
        "            nn.Conv2d(in_channels=hidden_feats, out_channels=hidden_feats, kernel_size=2,\n",
        "                      stride=2, padding=0),\n",
        "            nn.ReLU(),\n",
        "            nn.Conv2d(in_channels=hidden_feats, out_channels=out_feats, kernel_size=2,\n",
        "                      stride=1, padding=0),\n",
        "            nn.ReLU(),\n",
        "            nn.MaxPool2d(kernel_size=2, padding=1, stride=1)\n",
        "        )\n",
        "\n",
        "    def forward(self, x: torch.Tensor) -> torch.Tensor:\n",
        "        return self.conv_block_2(self.conv_block_1(x))"
      ]
    },
    {
      "cell_type": "code",
      "execution_count": 23,
      "id": "9d002244",
      "metadata": {
        "colab": {
          "base_uri": "https://localhost:8080/"
        },
        "id": "9d002244",
        "outputId": "b2d83244-f2aa-4a1a-e54c-ba04e16a2735"
      },
      "outputs": [
        {
          "output_type": "execute_result",
          "data": {
            "text/plain": [
              "torch.Size([100, 3, 64, 64])"
            ]
          },
          "metadata": {},
          "execution_count": 23
        }
      ],
      "source": [
        "# Test dummy input on tiny VGG to ensure it reduces size of frames from [256, 256, 3]\n",
        "# to [64, 64, 3]\n",
        "test_VGG = TinyVGG(in_feats=3, hidden_feats=10, out_feats=3)\n",
        "input = torch.randn(100, 3, 256, 256)\n",
        "test_VGG(input).shape"
      ]
    },
    {
      "cell_type": "code",
      "execution_count": 24,
      "id": "951504c0",
      "metadata": {
        "id": "951504c0"
      },
      "outputs": [],
      "source": [
        "### Finally, coding the TinyVGG_LSTM architectured model...\n",
        "class TinyVGG_LSTM(nn.Module):\n",
        "    def __init__(self, conv_in_feats: int=3, conv_hidden_feats: int=20, conv_out_feats: int=3,\n",
        "                 lstm_hidden_feats: int=16, lstm_layers: int=2,\n",
        "                  lstm_input_size =(3, 64, 64)):\n",
        "        super().__init__()\n",
        "        self.cnn = TinyVGG(in_feats=conv_in_feats, hidden_feats=conv_hidden_feats,\n",
        "                           out_feats=conv_out_feats)\n",
        "      # Calculate flattened CNN output size for LSTM input\n",
        "        dummy_input = torch.zeros(1, *lstm_input_size)\n",
        "        with torch.no_grad():\n",
        "            cnn_out = self.cnn(dummy_input)\n",
        "        self.cnn_flatten_dim = cnn_out.view(1, -1).size(1)\n",
        "        # Two-layer LSTM\n",
        "        self.lstm = nn.LSTM(input_size=self.cnn_flatten_dim,\n",
        "                            hidden_size=lstm_hidden_feats,\n",
        "                            num_layers=lstm_layers,\n",
        "                            batch_first=True)\n",
        "\n",
        "        # Final binary classification\n",
        "        self.fc = nn.Linear(lstm_hidden_feats, 1)\n",
        "\n",
        "    def forward(self, x:torch.tensor):\n",
        "        B, C, T, H, W = x.shape  # [batch, channels, time, height, width]\n",
        "        x = x.view(B * T, C, H, W)\n",
        "\n",
        "        cnn_features = self.cnn(x)\n",
        "        cnn_features = cnn_features.view(B, T, -1)  # [B, T, features]\n",
        "\n",
        "        lstm_out, _ = self.lstm(cnn_features)\n",
        "        last_hidden = lstm_out[:, -1, :]  # Last frame output\n",
        "\n",
        "        logits = self.fc(last_hidden)\n",
        "        return torch.sigmoid(logits).squeeze(1)  # [B]"
      ]
    },
    {
      "cell_type": "code",
      "source": [
        "device = torch.device(\"cuda\") if torch.cuda.is_available() else \"cpu\"\n",
        "model_0 = TinyVGG_LSTM().to(device)\n",
        "dummy_input = torch.randn(8, 3, 16, 64, 64).to(device)  # [B, T, C, H, W]\n",
        "output = model_0(dummy_input)\n",
        "print(output.shape)  # torch.Size([8])"
      ],
      "metadata": {
        "colab": {
          "base_uri": "https://localhost:8080/"
        },
        "id": "kYDHw8ReXtYB",
        "outputId": "d372279c-14f5-4dcc-c878-d1abffcee8e2"
      },
      "id": "kYDHw8ReXtYB",
      "execution_count": 25,
      "outputs": [
        {
          "output_type": "stream",
          "name": "stdout",
          "text": [
            "torch.Size([8])\n"
          ]
        }
      ]
    },
    {
      "cell_type": "code",
      "execution_count": 26,
      "id": "ba88657a",
      "metadata": {
        "id": "ba88657a",
        "colab": {
          "base_uri": "https://localhost:8080/"
        },
        "outputId": "d90208f8-ef67-43a5-8888-5d7c9e915f6e"
      },
      "outputs": [
        {
          "output_type": "execute_result",
          "data": {
            "text/plain": [
              "(BCEWithLogitsLoss(),\n",
              " Adam (\n",
              " Parameter Group 0\n",
              "     amsgrad: False\n",
              "     betas: (0.9, 0.999)\n",
              "     capturable: False\n",
              "     differentiable: False\n",
              "     eps: 1e-08\n",
              "     foreach: None\n",
              "     fused: None\n",
              "     lr: 0.001\n",
              "     maximize: False\n",
              "     weight_decay: 0\n",
              " ))"
            ]
          },
          "metadata": {},
          "execution_count": 26
        }
      ],
      "source": [
        "import torch\n",
        "from torch import optim, nn\n",
        "# Declare loss function and optimizer\n",
        "# Remember, the dataset is imbalanced (5639 deepfakes, 590 real videos)\n",
        "class_weights = torch.tensor([5639, 590])\n",
        "\n",
        "loss_fn = nn.BCEWithLogitsLoss(weight=class_weights)\n",
        "optimizer = optim.Adam(params=model_0.parameters(), lr=0.001)\n",
        "loss_fn, optimizer"
      ]
    },
    {
      "cell_type": "code",
      "source": [
        "!pip install torchmetrics"
      ],
      "metadata": {
        "colab": {
          "base_uri": "https://localhost:8080/"
        },
        "id": "oS00moj-hy03",
        "outputId": "76d4683a-7ce7-44fe-b994-de6f4ee77e28"
      },
      "id": "oS00moj-hy03",
      "execution_count": 27,
      "outputs": [
        {
          "output_type": "stream",
          "name": "stdout",
          "text": [
            "Collecting torchmetrics\n",
            "  Downloading torchmetrics-1.8.0-py3-none-any.whl.metadata (21 kB)\n",
            "Requirement already satisfied: numpy>1.20.0 in /usr/local/lib/python3.11/dist-packages (from torchmetrics) (2.0.2)\n",
            "Requirement already satisfied: packaging>17.1 in /usr/local/lib/python3.11/dist-packages (from torchmetrics) (25.0)\n",
            "Requirement already satisfied: torch>=2.0.0 in /usr/local/lib/python3.11/dist-packages (from torchmetrics) (2.6.0+cu124)\n",
            "Collecting lightning-utilities>=0.8.0 (from torchmetrics)\n",
            "  Downloading lightning_utilities-0.15.0-py3-none-any.whl.metadata (5.7 kB)\n",
            "Requirement already satisfied: setuptools in /usr/local/lib/python3.11/dist-packages (from lightning-utilities>=0.8.0->torchmetrics) (75.2.0)\n",
            "Requirement already satisfied: typing_extensions in /usr/local/lib/python3.11/dist-packages (from lightning-utilities>=0.8.0->torchmetrics) (4.14.1)\n",
            "Requirement already satisfied: filelock in /usr/local/lib/python3.11/dist-packages (from torch>=2.0.0->torchmetrics) (3.18.0)\n",
            "Requirement already satisfied: networkx in /usr/local/lib/python3.11/dist-packages (from torch>=2.0.0->torchmetrics) (3.5)\n",
            "Requirement already satisfied: jinja2 in /usr/local/lib/python3.11/dist-packages (from torch>=2.0.0->torchmetrics) (3.1.6)\n",
            "Requirement already satisfied: fsspec in /usr/local/lib/python3.11/dist-packages (from torch>=2.0.0->torchmetrics) (2025.3.0)\n",
            "Collecting nvidia-cuda-nvrtc-cu12==12.4.127 (from torch>=2.0.0->torchmetrics)\n",
            "  Downloading nvidia_cuda_nvrtc_cu12-12.4.127-py3-none-manylinux2014_x86_64.whl.metadata (1.5 kB)\n",
            "Collecting nvidia-cuda-runtime-cu12==12.4.127 (from torch>=2.0.0->torchmetrics)\n",
            "  Downloading nvidia_cuda_runtime_cu12-12.4.127-py3-none-manylinux2014_x86_64.whl.metadata (1.5 kB)\n",
            "Collecting nvidia-cuda-cupti-cu12==12.4.127 (from torch>=2.0.0->torchmetrics)\n",
            "  Downloading nvidia_cuda_cupti_cu12-12.4.127-py3-none-manylinux2014_x86_64.whl.metadata (1.6 kB)\n",
            "Collecting nvidia-cudnn-cu12==9.1.0.70 (from torch>=2.0.0->torchmetrics)\n",
            "  Downloading nvidia_cudnn_cu12-9.1.0.70-py3-none-manylinux2014_x86_64.whl.metadata (1.6 kB)\n",
            "Collecting nvidia-cublas-cu12==12.4.5.8 (from torch>=2.0.0->torchmetrics)\n",
            "  Downloading nvidia_cublas_cu12-12.4.5.8-py3-none-manylinux2014_x86_64.whl.metadata (1.5 kB)\n",
            "Collecting nvidia-cufft-cu12==11.2.1.3 (from torch>=2.0.0->torchmetrics)\n",
            "  Downloading nvidia_cufft_cu12-11.2.1.3-py3-none-manylinux2014_x86_64.whl.metadata (1.5 kB)\n",
            "Collecting nvidia-curand-cu12==10.3.5.147 (from torch>=2.0.0->torchmetrics)\n",
            "  Downloading nvidia_curand_cu12-10.3.5.147-py3-none-manylinux2014_x86_64.whl.metadata (1.5 kB)\n",
            "Collecting nvidia-cusolver-cu12==11.6.1.9 (from torch>=2.0.0->torchmetrics)\n",
            "  Downloading nvidia_cusolver_cu12-11.6.1.9-py3-none-manylinux2014_x86_64.whl.metadata (1.6 kB)\n",
            "Collecting nvidia-cusparse-cu12==12.3.1.170 (from torch>=2.0.0->torchmetrics)\n",
            "  Downloading nvidia_cusparse_cu12-12.3.1.170-py3-none-manylinux2014_x86_64.whl.metadata (1.6 kB)\n",
            "Requirement already satisfied: nvidia-cusparselt-cu12==0.6.2 in /usr/local/lib/python3.11/dist-packages (from torch>=2.0.0->torchmetrics) (0.6.2)\n",
            "Requirement already satisfied: nvidia-nccl-cu12==2.21.5 in /usr/local/lib/python3.11/dist-packages (from torch>=2.0.0->torchmetrics) (2.21.5)\n",
            "Requirement already satisfied: nvidia-nvtx-cu12==12.4.127 in /usr/local/lib/python3.11/dist-packages (from torch>=2.0.0->torchmetrics) (12.4.127)\n",
            "Collecting nvidia-nvjitlink-cu12==12.4.127 (from torch>=2.0.0->torchmetrics)\n",
            "  Downloading nvidia_nvjitlink_cu12-12.4.127-py3-none-manylinux2014_x86_64.whl.metadata (1.5 kB)\n",
            "Requirement already satisfied: triton==3.2.0 in /usr/local/lib/python3.11/dist-packages (from torch>=2.0.0->torchmetrics) (3.2.0)\n",
            "Requirement already satisfied: sympy==1.13.1 in /usr/local/lib/python3.11/dist-packages (from torch>=2.0.0->torchmetrics) (1.13.1)\n",
            "Requirement already satisfied: mpmath<1.4,>=1.1.0 in /usr/local/lib/python3.11/dist-packages (from sympy==1.13.1->torch>=2.0.0->torchmetrics) (1.3.0)\n",
            "Requirement already satisfied: MarkupSafe>=2.0 in /usr/local/lib/python3.11/dist-packages (from jinja2->torch>=2.0.0->torchmetrics) (3.0.2)\n",
            "Downloading torchmetrics-1.8.0-py3-none-any.whl (981 kB)\n",
            "\u001b[2K   \u001b[90m━━━━━━━━━━━━━━━━━━━━━━━━━━━━━━━━━━━━━━━━\u001b[0m \u001b[32m981.9/981.9 kB\u001b[0m \u001b[31m55.1 MB/s\u001b[0m eta \u001b[36m0:00:00\u001b[0m\n",
            "\u001b[?25hDownloading lightning_utilities-0.15.0-py3-none-any.whl (29 kB)\n",
            "Downloading nvidia_cublas_cu12-12.4.5.8-py3-none-manylinux2014_x86_64.whl (363.4 MB)\n",
            "\u001b[2K   \u001b[90m━━━━━━━━━━━━━━━━━━━━━━━━━━━━━━━━━━━━━━━━\u001b[0m \u001b[32m363.4/363.4 MB\u001b[0m \u001b[31m4.1 MB/s\u001b[0m eta \u001b[36m0:00:00\u001b[0m\n",
            "\u001b[?25hDownloading nvidia_cuda_cupti_cu12-12.4.127-py3-none-manylinux2014_x86_64.whl (13.8 MB)\n",
            "\u001b[2K   \u001b[90m━━━━━━━━━━━━━━━━━━━━━━━━━━━━━━━━━━━━━━━━\u001b[0m \u001b[32m13.8/13.8 MB\u001b[0m \u001b[31m77.4 MB/s\u001b[0m eta \u001b[36m0:00:00\u001b[0m\n",
            "\u001b[?25hDownloading nvidia_cuda_nvrtc_cu12-12.4.127-py3-none-manylinux2014_x86_64.whl (24.6 MB)\n",
            "\u001b[2K   \u001b[90m━━━━━━━━━━━━━━━━━━━━━━━━━━━━━━━━━━━━━━━━\u001b[0m \u001b[32m24.6/24.6 MB\u001b[0m \u001b[31m73.1 MB/s\u001b[0m eta \u001b[36m0:00:00\u001b[0m\n",
            "\u001b[?25hDownloading nvidia_cuda_runtime_cu12-12.4.127-py3-none-manylinux2014_x86_64.whl (883 kB)\n",
            "\u001b[2K   \u001b[90m━━━━━━━━━━━━━━━━━━━━━━━━━━━━━━━━━━━━━━━━\u001b[0m \u001b[32m883.7/883.7 kB\u001b[0m \u001b[31m44.4 MB/s\u001b[0m eta \u001b[36m0:00:00\u001b[0m\n",
            "\u001b[?25hDownloading nvidia_cudnn_cu12-9.1.0.70-py3-none-manylinux2014_x86_64.whl (664.8 MB)\n",
            "\u001b[2K   \u001b[90m━━━━━━━━━━━━━━━━━━━━━━━━━━━━━━━━━━━━━━━\u001b[0m \u001b[32m664.8/664.8 MB\u001b[0m \u001b[31m753.9 kB/s\u001b[0m eta \u001b[36m0:00:00\u001b[0m\n",
            "\u001b[?25hDownloading nvidia_cufft_cu12-11.2.1.3-py3-none-manylinux2014_x86_64.whl (211.5 MB)\n",
            "\u001b[2K   \u001b[90m━━━━━━━━━━━━━━━━━━━━━━━━━━━━━━━━━━━━━━━━\u001b[0m \u001b[32m211.5/211.5 MB\u001b[0m \u001b[31m7.4 MB/s\u001b[0m eta \u001b[36m0:00:00\u001b[0m\n",
            "\u001b[?25hDownloading nvidia_curand_cu12-10.3.5.147-py3-none-manylinux2014_x86_64.whl (56.3 MB)\n",
            "\u001b[2K   \u001b[90m━━━━━━━━━━━━━━━━━━━━━━━━━━━━━━━━━━━━━━━━\u001b[0m \u001b[32m56.3/56.3 MB\u001b[0m \u001b[31m13.7 MB/s\u001b[0m eta \u001b[36m0:00:00\u001b[0m\n",
            "\u001b[?25hDownloading nvidia_cusolver_cu12-11.6.1.9-py3-none-manylinux2014_x86_64.whl (127.9 MB)\n",
            "\u001b[2K   \u001b[90m━━━━━━━━━━━━━━━━━━━━━━━━━━━━━━━━━━━━━━━━\u001b[0m \u001b[32m127.9/127.9 MB\u001b[0m \u001b[31m8.2 MB/s\u001b[0m eta \u001b[36m0:00:00\u001b[0m\n",
            "\u001b[?25hDownloading nvidia_cusparse_cu12-12.3.1.170-py3-none-manylinux2014_x86_64.whl (207.5 MB)\n",
            "\u001b[2K   \u001b[90m━━━━━━━━━━━━━━━━━━━━━━━━━━━━━━━━━━━━━━━━\u001b[0m \u001b[32m207.5/207.5 MB\u001b[0m \u001b[31m7.5 MB/s\u001b[0m eta \u001b[36m0:00:00\u001b[0m\n",
            "\u001b[?25hDownloading nvidia_nvjitlink_cu12-12.4.127-py3-none-manylinux2014_x86_64.whl (21.1 MB)\n",
            "\u001b[2K   \u001b[90m━━━━━━━━━━━━━━━━━━━━━━━━━━━━━━━━━━━━━━━━\u001b[0m \u001b[32m21.1/21.1 MB\u001b[0m \u001b[31m109.5 MB/s\u001b[0m eta \u001b[36m0:00:00\u001b[0m\n",
            "\u001b[?25hInstalling collected packages: nvidia-nvjitlink-cu12, nvidia-curand-cu12, nvidia-cufft-cu12, nvidia-cuda-runtime-cu12, nvidia-cuda-nvrtc-cu12, nvidia-cuda-cupti-cu12, nvidia-cublas-cu12, lightning-utilities, nvidia-cusparse-cu12, nvidia-cudnn-cu12, nvidia-cusolver-cu12, torchmetrics\n",
            "  Attempting uninstall: nvidia-nvjitlink-cu12\n",
            "    Found existing installation: nvidia-nvjitlink-cu12 12.5.82\n",
            "    Uninstalling nvidia-nvjitlink-cu12-12.5.82:\n",
            "      Successfully uninstalled nvidia-nvjitlink-cu12-12.5.82\n",
            "  Attempting uninstall: nvidia-curand-cu12\n",
            "    Found existing installation: nvidia-curand-cu12 10.3.6.82\n",
            "    Uninstalling nvidia-curand-cu12-10.3.6.82:\n",
            "      Successfully uninstalled nvidia-curand-cu12-10.3.6.82\n",
            "  Attempting uninstall: nvidia-cufft-cu12\n",
            "    Found existing installation: nvidia-cufft-cu12 11.2.3.61\n",
            "    Uninstalling nvidia-cufft-cu12-11.2.3.61:\n",
            "      Successfully uninstalled nvidia-cufft-cu12-11.2.3.61\n",
            "  Attempting uninstall: nvidia-cuda-runtime-cu12\n",
            "    Found existing installation: nvidia-cuda-runtime-cu12 12.5.82\n",
            "    Uninstalling nvidia-cuda-runtime-cu12-12.5.82:\n",
            "      Successfully uninstalled nvidia-cuda-runtime-cu12-12.5.82\n",
            "  Attempting uninstall: nvidia-cuda-nvrtc-cu12\n",
            "    Found existing installation: nvidia-cuda-nvrtc-cu12 12.5.82\n",
            "    Uninstalling nvidia-cuda-nvrtc-cu12-12.5.82:\n",
            "      Successfully uninstalled nvidia-cuda-nvrtc-cu12-12.5.82\n",
            "  Attempting uninstall: nvidia-cuda-cupti-cu12\n",
            "    Found existing installation: nvidia-cuda-cupti-cu12 12.5.82\n",
            "    Uninstalling nvidia-cuda-cupti-cu12-12.5.82:\n",
            "      Successfully uninstalled nvidia-cuda-cupti-cu12-12.5.82\n",
            "  Attempting uninstall: nvidia-cublas-cu12\n",
            "    Found existing installation: nvidia-cublas-cu12 12.5.3.2\n",
            "    Uninstalling nvidia-cublas-cu12-12.5.3.2:\n",
            "      Successfully uninstalled nvidia-cublas-cu12-12.5.3.2\n",
            "  Attempting uninstall: nvidia-cusparse-cu12\n",
            "    Found existing installation: nvidia-cusparse-cu12 12.5.1.3\n",
            "    Uninstalling nvidia-cusparse-cu12-12.5.1.3:\n",
            "      Successfully uninstalled nvidia-cusparse-cu12-12.5.1.3\n",
            "  Attempting uninstall: nvidia-cudnn-cu12\n",
            "    Found existing installation: nvidia-cudnn-cu12 9.3.0.75\n",
            "    Uninstalling nvidia-cudnn-cu12-9.3.0.75:\n",
            "      Successfully uninstalled nvidia-cudnn-cu12-9.3.0.75\n",
            "  Attempting uninstall: nvidia-cusolver-cu12\n",
            "    Found existing installation: nvidia-cusolver-cu12 11.6.3.83\n",
            "    Uninstalling nvidia-cusolver-cu12-11.6.3.83:\n",
            "      Successfully uninstalled nvidia-cusolver-cu12-11.6.3.83\n",
            "Successfully installed lightning-utilities-0.15.0 nvidia-cublas-cu12-12.4.5.8 nvidia-cuda-cupti-cu12-12.4.127 nvidia-cuda-nvrtc-cu12-12.4.127 nvidia-cuda-runtime-cu12-12.4.127 nvidia-cudnn-cu12-9.1.0.70 nvidia-cufft-cu12-11.2.1.3 nvidia-curand-cu12-10.3.5.147 nvidia-cusolver-cu12-11.6.1.9 nvidia-cusparse-cu12-12.3.1.170 nvidia-nvjitlink-cu12-12.4.127 torchmetrics-1.8.0\n"
          ]
        }
      ]
    },
    {
      "cell_type": "code",
      "source": [
        "from torchmetrics.classification import MulticlassAccuracy, MulticlassF1Score\n",
        "from tqdm.auto import tqdm\n",
        "import numpy as np\n",
        "\n",
        "def mca(num_classes:int, preds:torch.Tensor, labels:torch.Tensor) -> float:\n",
        "    \"\"\"Returns accuracy of predictions compared to labels in standard decimal (not percentage)\n",
        "    form.\"\"\"\n",
        "    MCA = MulticlassAccuracy(num_classes=num_classes).to(preds.device)\n",
        "    return MCA(preds, labels)\n",
        "def mcf1(num_classes:int, preds:torch.Tensor, labels:torch.Tensor) -> float:\n",
        "    \"\"\"Returns the F1 Score of predictions compared to labels in standard decimal (not percentage)\n",
        "    form.\\n\n",
        "    F1 is a measure of how accurate the model is in classification that combines the metrics\n",
        "    of precision and recall.\"\"\"\n",
        "    MCF1 = MulticlassF1Score(num_classes=num_classes).to(preds.device)\n",
        "    return MCF1(preds, labels)\n",
        "\n",
        "### Creating a training loop: Usable with ANY model...\n",
        "def train_step(seed:int, n:int, model: nn.Module, loss_fn: nn.Module,\n",
        "               train_dl: DataLoader, optimizer: optim.Optimizer, batches_per_stats: int,\n",
        "               D: torch.device | str = device) -> torch.Tensor:\n",
        "    \"\"\"Trains a model off a training dataloader that is assumed to have\n",
        "    been created properly. \\n n is the number of classes the model will be identifying...\\n\n",
        "    The device is set to use cuda and the gpu if it is available; otherwise, it is set to use the\n",
        "    cpu. Both the loss function and optimizer must be defined before being passed as arguments\n",
        "    here.\"\"\"\n",
        "    # Instantiating metrics list and metrics\n",
        "    train_loss, train_acc, train_f1 = 0, 0, 0,\n",
        "    # Set seed\n",
        "    torch.manual_seed(seed) if D == \"cpu\" else torch.cuda.manual_seed(seed)\n",
        "    # Put the model in training mode\n",
        "    model.to(D)\n",
        "    model.train()\n",
        "    # Loop through training loop data\n",
        "    for batch, (X, y) in enumerate(train_dl):\n",
        "        # Device agnostic code\n",
        "        X, y = X.to(D), y.to(D).float() # Cast target to float\n",
        "        # 1. Forward pass\n",
        "        y_preds = model(X)\n",
        "        # 2. Calculate the loss (and update metrics)\n",
        "        loss = loss_fn(y_preds, y)\n",
        "        train_loss += loss.item()\n",
        "        train_acc += mca(n, y_preds, y.long()) # Metrics expect long, cast back for calculation\n",
        "        train_f1 += mcf1(n, y_preds, y.long()) # Metrics expect long, cast back for calculation\n",
        "        # 3. Optimizer zero grad\n",
        "        optimizer.zero_grad()\n",
        "        # 4. Backpropogation\n",
        "        loss.backward()\n",
        "        # 5. Optimizer Step\n",
        "        optimizer.step()\n",
        "        ### Return progress update\n",
        "        if batch % batches_per_stats == 0:\n",
        "            print(f\"Looked at {batch * len(X)}/{len(train_dl.dataset)} Samples\")\n",
        "    # Update, store, and return metrics\n",
        "    train_loss /= len(train_dl)\n",
        "    train_acc /= len(train_dl)\n",
        "    train_f1 /= len(train_dl)\n",
        "    return torch.tensor([train_loss, train_acc, train_f1])\n",
        "\n",
        "  ### Creating a testing loop: Usable with ANY model..\n",
        "def test_step(n:int, model: nn.Module, loss_fn: nn.Module, test_dl: DataLoader,\n",
        "              D: torch.device | str = device) -> torch.Tensor:\n",
        "    \"\"\"TESTS a model off a testing dataloader assumed to have\n",
        "    been created properly. \\n n is the number of classes the model will be identifying...\\n\n",
        "    The device is set to use cuda and the gpu if it is available; otherwise, it is set to use the\n",
        "    cpu. Both the loss function and optimizer must be defined before being passed as arguments\n",
        "    here.\"\"\"\n",
        "    test_loss, test_acc, test_f1 = 0, 0, 0\n",
        "    # Put the model in testing mode after device agnostic code\n",
        "    model.to(D)\n",
        "    model.eval()\n",
        "    # Loop through testing loop data with inference mode.\n",
        "    with torch.inference_mode():\n",
        "        for (X, y) in test_dl:\n",
        "            # Device agnostic code\n",
        "            X, y = X.to(D), y.to(D).float() # Cast target to float\n",
        "            # 1. Forward Pass\n",
        "            test_preds = model(X)\n",
        "            # 2. Calculate the Loss and other metrics\n",
        "            test_loss += loss_fn(test_preds, y).item()\n",
        "            test_acc += mca(n, test_preds, y.long()) # Metrics expect long, cast back for calculation\n",
        "            test_f1 += mcf1(n, test_preds, y.long()) # Metrics expect long, cast back for calculation\n",
        "        # Adjust and return metrics\n",
        "        test_loss /= len(test_dl)\n",
        "        test_acc /= len(test_dl)\n",
        "        test_f1 /= len(test_dl)\n",
        "    return torch.tensor([test_loss, test_acc, test_f1])\n",
        "\n",
        "def run_epochs(epochs: int, n:int, epochs_per_stats: int, batches_per_status: int, seed: int,\n",
        "               model: nn.Module, loss_fn: nn.Module, optimizer: optim.Optimizer,\n",
        "               train_dl: DataLoader, test_dl: DataLoader) -> np.ndarray:\n",
        "    # Create metrics lists to store all metrics\n",
        "    epoch_count, losses, accs, f1s, test_losses, test_accs, test_f1s = [], [], [], [], [], [], []\n",
        "    # Start the epochs\n",
        "    for epoch in tqdm(range(epochs)):\n",
        "        # Record training metrics and train the model\n",
        "        training_metrics = train_step(seed=seed, n=n, model=model, loss_fn=loss_fn, train_dl=train_dl,\n",
        "                                   optimizer=optimizer, batches_per_stats=batches_per_status)\n",
        "        epoch_count.append(epoch)\n",
        "        losses.append(training_metrics[0])\n",
        "        accs.append(training_metrics[1])\n",
        "        f1s.append(training_metrics[2])\n",
        "        # Record testing metrics and test the model\n",
        "        testing_metrics = test_step(n=n, model=model, loss_fn=loss_fn, test_dl=test_dl)\n",
        "        test_losses.append(testing_metrics[0])\n",
        "        test_accs.append(testing_metrics[1])\n",
        "        test_f1s.append(testing_metrics[2])\n",
        "        # Print out what's happening\n",
        "        if epoch % epochs_per_stats == 0:\n",
        "            print(f\"Training Loss: {losses[epoch]:.4f} | Accuracy: {accs[epoch]:.4f}% | F1 Score: {f1s[epoch]:.4f} | Test Loss: {test_losses[epoch]:.4f} | Test Accuracy: {test_accs[epoch]:.4f}% | Test F1 Score: {test_f1s[epoch]:.4f}\")\n",
        "    result_tensor = torch.tensor([epoch_count, losses, accs, f1s, test_losses, test_accs, test_f1s])\n",
        "    return result_tensor.cpu().numpy()"
      ],
      "metadata": {
        "id": "ceK0GrUshb3X"
      },
      "id": "ceK0GrUshb3X",
      "execution_count": 30,
      "outputs": []
    },
    {
      "cell_type": "code",
      "metadata": {
        "id": "e67620fd",
        "colab": {
          "base_uri": "https://localhost:8080/",
          "height": 388,
          "referenced_widgets": [
            "addb8871cf7a4013bb26ed8784c37e20",
            "9e070ab2c45b4a009b19031f59462486",
            "570dd9593b6c4538a8d1526a34c5cef7",
            "7895bf09aede4da2b0737c88f3b8ddf7",
            "090d1a6d0281484c9d03e7dc05f56711",
            "ec6dd9243bb44829b527335c568dc681",
            "cec31c05119246628e8de266d4c7c6e0",
            "a6a02e9f745a4826b0c2bbf8e8b6257b",
            "818f8ec88a4b4a8da28056f2dac29fa7",
            "34c3e6045d344169a24705d197364e9e",
            "ae4d3ed00a014258919550cb0c53c39b"
          ]
        },
        "outputId": "c54b7755-6a92-4eef-ca45-c59ad5fab029"
      },
      "source": [
        "# Modify the training loop to handle None values returned by the dataset\n",
        "def run_epochs_modified(epochs: int, n:int, epochs_per_stats: int, batches_per_status: int, seed: int,\n",
        "               model: nn.Module, loss_fn: nn.Module, optimizer: optim.Optimizer,\n",
        "               train_dl: DataLoader, test_dl: DataLoader) -> np.ndarray:\n",
        "    # Create metrics lists to store all metrics\n",
        "    epoch_count, losses, accs, f1s, test_losses, test_accs, test_f1s = [], [], [], [], [], [], []\n",
        "    # Start the epochs\n",
        "    for epoch in tqdm(range(epochs)):\n",
        "        # Record training metrics and train the model\n",
        "        training_metrics = train_step(seed=seed, n=n, model=model, loss_fn=loss_fn, train_dl=train_dl,\n",
        "                                   optimizer=optimizer, batches_per_stats=batches_per_status)\n",
        "        epoch_count.append(epoch)\n",
        "        losses.append(training_metrics[0])\n",
        "        accs.append(training_metrics[1])\n",
        "        f1s.append(training_metrics[2])\n",
        "        # Record testing metrics and test the model\n",
        "        testing_metrics = test_step(n=n, model=model, loss_fn=loss_fn, test_dl=test_dl)\n",
        "        test_losses.append(testing_metrics[0])\n",
        "        test_accs.append(testing_metrics[1])\n",
        "        test_f1s.append(testing_metrics[2])\n",
        "        # Print out what's happening\n",
        "        if epoch % epochs_per_stats == 0:\n",
        "            print(f\"Training Loss: {losses[epoch]:.4f} | Accuracy: {accs[epoch]:.4f}% | F1 Score: {f1s[epoch]:.4f} | Test Loss: {test_losses[epoch]:.4f} | Test Accuracy: {test_accs[epoch]:.4f}% | Test F1 Score: {test_f1s[epoch]:.4f}\")\n",
        "    result_tensor = torch.tensor([epoch_count, losses, accs, f1s, test_losses, test_accs, test_f1s])\n",
        "    return result_tensor.cpu().numpy()\n",
        "\n",
        "run_epochs_modified(epochs=10, n=2, loss_fn=loss_fn, batches_per_status=200, seed=42, optimizer=optimizer,\n",
        "           train_dl=train_dl, test_dl=validation_dl, model=model_0, epochs_per_stats=1)"
      ],
      "id": "e67620fd",
      "execution_count": 31,
      "outputs": [
        {
          "output_type": "display_data",
          "data": {
            "text/plain": [
              "  0%|          | 0/10 [00:00<?, ?it/s]"
            ],
            "application/vnd.jupyter.widget-view+json": {
              "version_major": 2,
              "version_minor": 0,
              "model_id": "addb8871cf7a4013bb26ed8784c37e20"
            }
          },
          "metadata": {}
        },
        {
          "output_type": "error",
          "ename": "RuntimeError",
          "evalue": "The size of tensor a (32) must match the size of tensor b (2) at non-singleton dimension 0",
          "traceback": [
            "\u001b[0;31m---------------------------------------------------------------------------\u001b[0m",
            "\u001b[0;31mRuntimeError\u001b[0m                              Traceback (most recent call last)",
            "\u001b[0;32m/tmp/ipython-input-2307910354.py\u001b[0m in \u001b[0;36m<cell line: 0>\u001b[0;34m()\u001b[0m\n\u001b[1;32m     25\u001b[0m     \u001b[0;32mreturn\u001b[0m \u001b[0mresult_tensor\u001b[0m\u001b[0;34m.\u001b[0m\u001b[0mcpu\u001b[0m\u001b[0;34m(\u001b[0m\u001b[0;34m)\u001b[0m\u001b[0;34m.\u001b[0m\u001b[0mnumpy\u001b[0m\u001b[0;34m(\u001b[0m\u001b[0;34m)\u001b[0m\u001b[0;34m\u001b[0m\u001b[0;34m\u001b[0m\u001b[0m\n\u001b[1;32m     26\u001b[0m \u001b[0;34m\u001b[0m\u001b[0m\n\u001b[0;32m---> 27\u001b[0;31m run_epochs_modified(epochs=10, n=2, loss_fn=loss_fn, batches_per_status=200, seed=42, optimizer=optimizer,\n\u001b[0m\u001b[1;32m     28\u001b[0m            train_dl=train_dl, test_dl=validation_dl, model=model_0, epochs_per_stats=1)\n",
            "\u001b[0;32m/tmp/ipython-input-2307910354.py\u001b[0m in \u001b[0;36mrun_epochs_modified\u001b[0;34m(epochs, n, epochs_per_stats, batches_per_status, seed, model, loss_fn, optimizer, train_dl, test_dl)\u001b[0m\n\u001b[1;32m      8\u001b[0m     \u001b[0;32mfor\u001b[0m \u001b[0mepoch\u001b[0m \u001b[0;32min\u001b[0m \u001b[0mtqdm\u001b[0m\u001b[0;34m(\u001b[0m\u001b[0mrange\u001b[0m\u001b[0;34m(\u001b[0m\u001b[0mepochs\u001b[0m\u001b[0;34m)\u001b[0m\u001b[0;34m)\u001b[0m\u001b[0;34m:\u001b[0m\u001b[0;34m\u001b[0m\u001b[0;34m\u001b[0m\u001b[0m\n\u001b[1;32m      9\u001b[0m         \u001b[0;31m# Record training metrics and train the model\u001b[0m\u001b[0;34m\u001b[0m\u001b[0;34m\u001b[0m\u001b[0m\n\u001b[0;32m---> 10\u001b[0;31m         training_metrics = train_step(seed=seed, n=n, model=model, loss_fn=loss_fn, train_dl=train_dl,\n\u001b[0m\u001b[1;32m     11\u001b[0m                                    optimizer=optimizer, batches_per_stats=batches_per_status)\n\u001b[1;32m     12\u001b[0m         \u001b[0mepoch_count\u001b[0m\u001b[0;34m.\u001b[0m\u001b[0mappend\u001b[0m\u001b[0;34m(\u001b[0m\u001b[0mepoch\u001b[0m\u001b[0;34m)\u001b[0m\u001b[0;34m\u001b[0m\u001b[0;34m\u001b[0m\u001b[0m\n",
            "\u001b[0;32m/tmp/ipython-input-3073057631.py\u001b[0m in \u001b[0;36mtrain_step\u001b[0;34m(seed, n, model, loss_fn, train_dl, optimizer, batches_per_stats, D)\u001b[0m\n\u001b[1;32m     39\u001b[0m         \u001b[0my_preds\u001b[0m \u001b[0;34m=\u001b[0m \u001b[0mmodel\u001b[0m\u001b[0;34m(\u001b[0m\u001b[0mX\u001b[0m\u001b[0;34m)\u001b[0m\u001b[0;34m\u001b[0m\u001b[0;34m\u001b[0m\u001b[0m\n\u001b[1;32m     40\u001b[0m         \u001b[0;31m# 2. Calculate the loss (and update metrics)\u001b[0m\u001b[0;34m\u001b[0m\u001b[0;34m\u001b[0m\u001b[0m\n\u001b[0;32m---> 41\u001b[0;31m         \u001b[0mloss\u001b[0m \u001b[0;34m=\u001b[0m \u001b[0mloss_fn\u001b[0m\u001b[0;34m(\u001b[0m\u001b[0my_preds\u001b[0m\u001b[0;34m,\u001b[0m \u001b[0my\u001b[0m\u001b[0;34m)\u001b[0m\u001b[0;34m\u001b[0m\u001b[0;34m\u001b[0m\u001b[0m\n\u001b[0m\u001b[1;32m     42\u001b[0m         \u001b[0mtrain_loss\u001b[0m \u001b[0;34m+=\u001b[0m \u001b[0mloss\u001b[0m\u001b[0;34m.\u001b[0m\u001b[0mitem\u001b[0m\u001b[0;34m(\u001b[0m\u001b[0;34m)\u001b[0m\u001b[0;34m\u001b[0m\u001b[0;34m\u001b[0m\u001b[0m\n\u001b[1;32m     43\u001b[0m         \u001b[0mtrain_acc\u001b[0m \u001b[0;34m+=\u001b[0m \u001b[0mmca\u001b[0m\u001b[0;34m(\u001b[0m\u001b[0mn\u001b[0m\u001b[0;34m,\u001b[0m \u001b[0my_preds\u001b[0m\u001b[0;34m,\u001b[0m \u001b[0my\u001b[0m\u001b[0;34m.\u001b[0m\u001b[0mlong\u001b[0m\u001b[0;34m(\u001b[0m\u001b[0;34m)\u001b[0m\u001b[0;34m)\u001b[0m \u001b[0;31m# Metrics expect long, cast back for calculation\u001b[0m\u001b[0;34m\u001b[0m\u001b[0;34m\u001b[0m\u001b[0m\n",
            "\u001b[0;32m/usr/local/lib/python3.11/dist-packages/torch/nn/modules/module.py\u001b[0m in \u001b[0;36m_wrapped_call_impl\u001b[0;34m(self, *args, **kwargs)\u001b[0m\n\u001b[1;32m   1737\u001b[0m             \u001b[0;32mreturn\u001b[0m \u001b[0mself\u001b[0m\u001b[0;34m.\u001b[0m\u001b[0m_compiled_call_impl\u001b[0m\u001b[0;34m(\u001b[0m\u001b[0;34m*\u001b[0m\u001b[0margs\u001b[0m\u001b[0;34m,\u001b[0m \u001b[0;34m**\u001b[0m\u001b[0mkwargs\u001b[0m\u001b[0;34m)\u001b[0m  \u001b[0;31m# type: ignore[misc]\u001b[0m\u001b[0;34m\u001b[0m\u001b[0;34m\u001b[0m\u001b[0m\n\u001b[1;32m   1738\u001b[0m         \u001b[0;32melse\u001b[0m\u001b[0;34m:\u001b[0m\u001b[0;34m\u001b[0m\u001b[0;34m\u001b[0m\u001b[0m\n\u001b[0;32m-> 1739\u001b[0;31m             \u001b[0;32mreturn\u001b[0m \u001b[0mself\u001b[0m\u001b[0;34m.\u001b[0m\u001b[0m_call_impl\u001b[0m\u001b[0;34m(\u001b[0m\u001b[0;34m*\u001b[0m\u001b[0margs\u001b[0m\u001b[0;34m,\u001b[0m \u001b[0;34m**\u001b[0m\u001b[0mkwargs\u001b[0m\u001b[0;34m)\u001b[0m\u001b[0;34m\u001b[0m\u001b[0;34m\u001b[0m\u001b[0m\n\u001b[0m\u001b[1;32m   1740\u001b[0m \u001b[0;34m\u001b[0m\u001b[0m\n\u001b[1;32m   1741\u001b[0m     \u001b[0;31m# torchrec tests the code consistency with the following code\u001b[0m\u001b[0;34m\u001b[0m\u001b[0;34m\u001b[0m\u001b[0m\n",
            "\u001b[0;32m/usr/local/lib/python3.11/dist-packages/torch/nn/modules/module.py\u001b[0m in \u001b[0;36m_call_impl\u001b[0;34m(self, *args, **kwargs)\u001b[0m\n\u001b[1;32m   1748\u001b[0m                 \u001b[0;32mor\u001b[0m \u001b[0m_global_backward_pre_hooks\u001b[0m \u001b[0;32mor\u001b[0m \u001b[0m_global_backward_hooks\u001b[0m\u001b[0;34m\u001b[0m\u001b[0;34m\u001b[0m\u001b[0m\n\u001b[1;32m   1749\u001b[0m                 or _global_forward_hooks or _global_forward_pre_hooks):\n\u001b[0;32m-> 1750\u001b[0;31m             \u001b[0;32mreturn\u001b[0m \u001b[0mforward_call\u001b[0m\u001b[0;34m(\u001b[0m\u001b[0;34m*\u001b[0m\u001b[0margs\u001b[0m\u001b[0;34m,\u001b[0m \u001b[0;34m**\u001b[0m\u001b[0mkwargs\u001b[0m\u001b[0;34m)\u001b[0m\u001b[0;34m\u001b[0m\u001b[0;34m\u001b[0m\u001b[0m\n\u001b[0m\u001b[1;32m   1751\u001b[0m \u001b[0;34m\u001b[0m\u001b[0m\n\u001b[1;32m   1752\u001b[0m         \u001b[0mresult\u001b[0m \u001b[0;34m=\u001b[0m \u001b[0;32mNone\u001b[0m\u001b[0;34m\u001b[0m\u001b[0;34m\u001b[0m\u001b[0m\n",
            "\u001b[0;32m/usr/local/lib/python3.11/dist-packages/torch/nn/modules/loss.py\u001b[0m in \u001b[0;36mforward\u001b[0;34m(self, input, target)\u001b[0m\n\u001b[1;32m    819\u001b[0m \u001b[0;34m\u001b[0m\u001b[0m\n\u001b[1;32m    820\u001b[0m     \u001b[0;32mdef\u001b[0m \u001b[0mforward\u001b[0m\u001b[0;34m(\u001b[0m\u001b[0mself\u001b[0m\u001b[0;34m,\u001b[0m \u001b[0minput\u001b[0m\u001b[0;34m:\u001b[0m \u001b[0mTensor\u001b[0m\u001b[0;34m,\u001b[0m \u001b[0mtarget\u001b[0m\u001b[0;34m:\u001b[0m \u001b[0mTensor\u001b[0m\u001b[0;34m)\u001b[0m \u001b[0;34m->\u001b[0m \u001b[0mTensor\u001b[0m\u001b[0;34m:\u001b[0m\u001b[0;34m\u001b[0m\u001b[0;34m\u001b[0m\u001b[0m\n\u001b[0;32m--> 821\u001b[0;31m         return F.binary_cross_entropy_with_logits(\n\u001b[0m\u001b[1;32m    822\u001b[0m             \u001b[0minput\u001b[0m\u001b[0;34m,\u001b[0m\u001b[0;34m\u001b[0m\u001b[0;34m\u001b[0m\u001b[0m\n\u001b[1;32m    823\u001b[0m             \u001b[0mtarget\u001b[0m\u001b[0;34m,\u001b[0m\u001b[0;34m\u001b[0m\u001b[0;34m\u001b[0m\u001b[0m\n",
            "\u001b[0;32m/usr/local/lib/python3.11/dist-packages/torch/nn/functional.py\u001b[0m in \u001b[0;36mbinary_cross_entropy_with_logits\u001b[0;34m(input, target, weight, size_average, reduce, reduction, pos_weight)\u001b[0m\n\u001b[1;32m   3641\u001b[0m         )\n\u001b[1;32m   3642\u001b[0m \u001b[0;34m\u001b[0m\u001b[0m\n\u001b[0;32m-> 3643\u001b[0;31m     return torch.binary_cross_entropy_with_logits(\n\u001b[0m\u001b[1;32m   3644\u001b[0m         \u001b[0minput\u001b[0m\u001b[0;34m,\u001b[0m \u001b[0mtarget\u001b[0m\u001b[0;34m,\u001b[0m \u001b[0mweight\u001b[0m\u001b[0;34m,\u001b[0m \u001b[0mpos_weight\u001b[0m\u001b[0;34m,\u001b[0m \u001b[0mreduction_enum\u001b[0m\u001b[0;34m\u001b[0m\u001b[0;34m\u001b[0m\u001b[0m\n\u001b[1;32m   3645\u001b[0m     )\n",
            "\u001b[0;31mRuntimeError\u001b[0m: The size of tensor a (32) must match the size of tensor b (2) at non-singleton dimension 0"
          ]
        }
      ]
    }
  ],
  "metadata": {
    "kernelspec": {
      "display_name": "Python 3",
      "name": "python3"
    },
    "language_info": {
      "codemirror_mode": {
        "name": "ipython",
        "version": 3
      },
      "file_extension": ".py",
      "mimetype": "text/x-python",
      "name": "python",
      "nbconvert_exporter": "python",
      "pygments_lexer": "ipython3",
      "version": "3.12.3"
    },
    "colab": {
      "provenance": []
    },
    "widgets": {
      "application/vnd.jupyter.widget-state+json": {
        "addb8871cf7a4013bb26ed8784c37e20": {
          "model_module": "@jupyter-widgets/controls",
          "model_name": "HBoxModel",
          "model_module_version": "1.5.0",
          "state": {
            "_dom_classes": [],
            "_model_module": "@jupyter-widgets/controls",
            "_model_module_version": "1.5.0",
            "_model_name": "HBoxModel",
            "_view_count": null,
            "_view_module": "@jupyter-widgets/controls",
            "_view_module_version": "1.5.0",
            "_view_name": "HBoxView",
            "box_style": "",
            "children": [
              "IPY_MODEL_9e070ab2c45b4a009b19031f59462486",
              "IPY_MODEL_570dd9593b6c4538a8d1526a34c5cef7",
              "IPY_MODEL_7895bf09aede4da2b0737c88f3b8ddf7"
            ],
            "layout": "IPY_MODEL_090d1a6d0281484c9d03e7dc05f56711"
          }
        },
        "9e070ab2c45b4a009b19031f59462486": {
          "model_module": "@jupyter-widgets/controls",
          "model_name": "HTMLModel",
          "model_module_version": "1.5.0",
          "state": {
            "_dom_classes": [],
            "_model_module": "@jupyter-widgets/controls",
            "_model_module_version": "1.5.0",
            "_model_name": "HTMLModel",
            "_view_count": null,
            "_view_module": "@jupyter-widgets/controls",
            "_view_module_version": "1.5.0",
            "_view_name": "HTMLView",
            "description": "",
            "description_tooltip": null,
            "layout": "IPY_MODEL_ec6dd9243bb44829b527335c568dc681",
            "placeholder": "​",
            "style": "IPY_MODEL_cec31c05119246628e8de266d4c7c6e0",
            "value": "  0%"
          }
        },
        "570dd9593b6c4538a8d1526a34c5cef7": {
          "model_module": "@jupyter-widgets/controls",
          "model_name": "FloatProgressModel",
          "model_module_version": "1.5.0",
          "state": {
            "_dom_classes": [],
            "_model_module": "@jupyter-widgets/controls",
            "_model_module_version": "1.5.0",
            "_model_name": "FloatProgressModel",
            "_view_count": null,
            "_view_module": "@jupyter-widgets/controls",
            "_view_module_version": "1.5.0",
            "_view_name": "ProgressView",
            "bar_style": "danger",
            "description": "",
            "description_tooltip": null,
            "layout": "IPY_MODEL_a6a02e9f745a4826b0c2bbf8e8b6257b",
            "max": 10,
            "min": 0,
            "orientation": "horizontal",
            "style": "IPY_MODEL_818f8ec88a4b4a8da28056f2dac29fa7",
            "value": 0
          }
        },
        "7895bf09aede4da2b0737c88f3b8ddf7": {
          "model_module": "@jupyter-widgets/controls",
          "model_name": "HTMLModel",
          "model_module_version": "1.5.0",
          "state": {
            "_dom_classes": [],
            "_model_module": "@jupyter-widgets/controls",
            "_model_module_version": "1.5.0",
            "_model_name": "HTMLModel",
            "_view_count": null,
            "_view_module": "@jupyter-widgets/controls",
            "_view_module_version": "1.5.0",
            "_view_name": "HTMLView",
            "description": "",
            "description_tooltip": null,
            "layout": "IPY_MODEL_34c3e6045d344169a24705d197364e9e",
            "placeholder": "​",
            "style": "IPY_MODEL_ae4d3ed00a014258919550cb0c53c39b",
            "value": " 0/10 [47:30&lt;?, ?it/s]"
          }
        },
        "090d1a6d0281484c9d03e7dc05f56711": {
          "model_module": "@jupyter-widgets/base",
          "model_name": "LayoutModel",
          "model_module_version": "1.2.0",
          "state": {
            "_model_module": "@jupyter-widgets/base",
            "_model_module_version": "1.2.0",
            "_model_name": "LayoutModel",
            "_view_count": null,
            "_view_module": "@jupyter-widgets/base",
            "_view_module_version": "1.2.0",
            "_view_name": "LayoutView",
            "align_content": null,
            "align_items": null,
            "align_self": null,
            "border": null,
            "bottom": null,
            "display": null,
            "flex": null,
            "flex_flow": null,
            "grid_area": null,
            "grid_auto_columns": null,
            "grid_auto_flow": null,
            "grid_auto_rows": null,
            "grid_column": null,
            "grid_gap": null,
            "grid_row": null,
            "grid_template_areas": null,
            "grid_template_columns": null,
            "grid_template_rows": null,
            "height": null,
            "justify_content": null,
            "justify_items": null,
            "left": null,
            "margin": null,
            "max_height": null,
            "max_width": null,
            "min_height": null,
            "min_width": null,
            "object_fit": null,
            "object_position": null,
            "order": null,
            "overflow": null,
            "overflow_x": null,
            "overflow_y": null,
            "padding": null,
            "right": null,
            "top": null,
            "visibility": null,
            "width": null
          }
        },
        "ec6dd9243bb44829b527335c568dc681": {
          "model_module": "@jupyter-widgets/base",
          "model_name": "LayoutModel",
          "model_module_version": "1.2.0",
          "state": {
            "_model_module": "@jupyter-widgets/base",
            "_model_module_version": "1.2.0",
            "_model_name": "LayoutModel",
            "_view_count": null,
            "_view_module": "@jupyter-widgets/base",
            "_view_module_version": "1.2.0",
            "_view_name": "LayoutView",
            "align_content": null,
            "align_items": null,
            "align_self": null,
            "border": null,
            "bottom": null,
            "display": null,
            "flex": null,
            "flex_flow": null,
            "grid_area": null,
            "grid_auto_columns": null,
            "grid_auto_flow": null,
            "grid_auto_rows": null,
            "grid_column": null,
            "grid_gap": null,
            "grid_row": null,
            "grid_template_areas": null,
            "grid_template_columns": null,
            "grid_template_rows": null,
            "height": null,
            "justify_content": null,
            "justify_items": null,
            "left": null,
            "margin": null,
            "max_height": null,
            "max_width": null,
            "min_height": null,
            "min_width": null,
            "object_fit": null,
            "object_position": null,
            "order": null,
            "overflow": null,
            "overflow_x": null,
            "overflow_y": null,
            "padding": null,
            "right": null,
            "top": null,
            "visibility": null,
            "width": null
          }
        },
        "cec31c05119246628e8de266d4c7c6e0": {
          "model_module": "@jupyter-widgets/controls",
          "model_name": "DescriptionStyleModel",
          "model_module_version": "1.5.0",
          "state": {
            "_model_module": "@jupyter-widgets/controls",
            "_model_module_version": "1.5.0",
            "_model_name": "DescriptionStyleModel",
            "_view_count": null,
            "_view_module": "@jupyter-widgets/base",
            "_view_module_version": "1.2.0",
            "_view_name": "StyleView",
            "description_width": ""
          }
        },
        "a6a02e9f745a4826b0c2bbf8e8b6257b": {
          "model_module": "@jupyter-widgets/base",
          "model_name": "LayoutModel",
          "model_module_version": "1.2.0",
          "state": {
            "_model_module": "@jupyter-widgets/base",
            "_model_module_version": "1.2.0",
            "_model_name": "LayoutModel",
            "_view_count": null,
            "_view_module": "@jupyter-widgets/base",
            "_view_module_version": "1.2.0",
            "_view_name": "LayoutView",
            "align_content": null,
            "align_items": null,
            "align_self": null,
            "border": null,
            "bottom": null,
            "display": null,
            "flex": null,
            "flex_flow": null,
            "grid_area": null,
            "grid_auto_columns": null,
            "grid_auto_flow": null,
            "grid_auto_rows": null,
            "grid_column": null,
            "grid_gap": null,
            "grid_row": null,
            "grid_template_areas": null,
            "grid_template_columns": null,
            "grid_template_rows": null,
            "height": null,
            "justify_content": null,
            "justify_items": null,
            "left": null,
            "margin": null,
            "max_height": null,
            "max_width": null,
            "min_height": null,
            "min_width": null,
            "object_fit": null,
            "object_position": null,
            "order": null,
            "overflow": null,
            "overflow_x": null,
            "overflow_y": null,
            "padding": null,
            "right": null,
            "top": null,
            "visibility": null,
            "width": null
          }
        },
        "818f8ec88a4b4a8da28056f2dac29fa7": {
          "model_module": "@jupyter-widgets/controls",
          "model_name": "ProgressStyleModel",
          "model_module_version": "1.5.0",
          "state": {
            "_model_module": "@jupyter-widgets/controls",
            "_model_module_version": "1.5.0",
            "_model_name": "ProgressStyleModel",
            "_view_count": null,
            "_view_module": "@jupyter-widgets/base",
            "_view_module_version": "1.2.0",
            "_view_name": "StyleView",
            "bar_color": null,
            "description_width": ""
          }
        },
        "34c3e6045d344169a24705d197364e9e": {
          "model_module": "@jupyter-widgets/base",
          "model_name": "LayoutModel",
          "model_module_version": "1.2.0",
          "state": {
            "_model_module": "@jupyter-widgets/base",
            "_model_module_version": "1.2.0",
            "_model_name": "LayoutModel",
            "_view_count": null,
            "_view_module": "@jupyter-widgets/base",
            "_view_module_version": "1.2.0",
            "_view_name": "LayoutView",
            "align_content": null,
            "align_items": null,
            "align_self": null,
            "border": null,
            "bottom": null,
            "display": null,
            "flex": null,
            "flex_flow": null,
            "grid_area": null,
            "grid_auto_columns": null,
            "grid_auto_flow": null,
            "grid_auto_rows": null,
            "grid_column": null,
            "grid_gap": null,
            "grid_row": null,
            "grid_template_areas": null,
            "grid_template_columns": null,
            "grid_template_rows": null,
            "height": null,
            "justify_content": null,
            "justify_items": null,
            "left": null,
            "margin": null,
            "max_height": null,
            "max_width": null,
            "min_height": null,
            "min_width": null,
            "object_fit": null,
            "object_position": null,
            "order": null,
            "overflow": null,
            "overflow_x": null,
            "overflow_y": null,
            "padding": null,
            "right": null,
            "top": null,
            "visibility": null,
            "width": null
          }
        },
        "ae4d3ed00a014258919550cb0c53c39b": {
          "model_module": "@jupyter-widgets/controls",
          "model_name": "DescriptionStyleModel",
          "model_module_version": "1.5.0",
          "state": {
            "_model_module": "@jupyter-widgets/controls",
            "_model_module_version": "1.5.0",
            "_model_name": "DescriptionStyleModel",
            "_view_count": null,
            "_view_module": "@jupyter-widgets/base",
            "_view_module_version": "1.2.0",
            "_view_name": "StyleView",
            "description_width": ""
          }
        }
      }
    }
  },
  "nbformat": 4,
  "nbformat_minor": 5
}